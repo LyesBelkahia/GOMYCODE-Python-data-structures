{
 "cells": [
  {
   "cell_type": "code",
   "execution_count": 11,
   "id": "037a2385",
   "metadata": {},
   "outputs": [
    {
     "name": "stdout",
     "output_type": "stream",
     "text": [
      "choose a number : 2\n",
      "if you want to add another value, type : add ; if you want to stop, type : stop add\n",
      "your other number : 3\n",
      "if you want to add another value, type : add ; if you want to stop, type : stop add\n",
      "your other number : 4\n",
      "if you want to add another value, type : add ; if you want to stop, type : stop stop\n",
      "when we multiply all the numbers of your list [2, 3, 4] we have 24\n"
     ]
    }
   ],
   "source": [
    "a=0\n",
    "list=[int(input(\"choose a number : \"))]\n",
    "while a==0:\n",
    "    b=input(\"if you want to add another value, type : add ; if you want to stop, type : stop \")\n",
    "    if b==\"add\":\n",
    "        c=int(input(\"your other number : \"))\n",
    "        list.append(c)\n",
    "        a=0\n",
    "    elif b==\"stop\":\n",
    "        a=a+1\n",
    "    else :\n",
    "        print(\"you have to choose between 'add' and 'stop'\")\n",
    "        \n",
    "n=len(list)\n",
    "x=1\n",
    "for i in range(n):\n",
    "    x=x*list[i]\n",
    "print(\"when we multiply all the numbers of your list\", list, \"we have\", x)"
   ]
  },
  {
   "cell_type": "code",
   "execution_count": 17,
   "id": "944f0424",
   "metadata": {},
   "outputs": [
    {
     "data": {
      "text/plain": [
       "[(2, 1), (1, 2), (2, 3), (4, 4), (2, 5)]"
      ]
     },
     "execution_count": 17,
     "metadata": {},
     "output_type": "execute_result"
    }
   ],
   "source": [
    "def getKey(a):\n",
    "    return a[1]\n",
    "\n",
    "tuple=[(2, 5), (1, 2), (4, 4), (2, 3), (2, 1)]\n",
    "\n",
    "sorted(tuple, key=getKey)"
   ]
  },
  {
   "cell_type": "code",
   "execution_count": 7,
   "id": "2f4232d6",
   "metadata": {},
   "outputs": [
    {
     "name": "stdout",
     "output_type": "stream",
     "text": [
      "{'a': 300, 'b': 200, 'd': 400, 'c': 300}\n"
     ]
    }
   ],
   "source": [
    "d1 = {'a': 100, 'b': 200, 'c':300}\n",
    "\n",
    "d2 = {'a': 300, 'b': 200, 'd':400}\n",
    "\n",
    "d3 = {}\n",
    "\n",
    "for i, j in d1.items():\n",
    "\n",
    "    for x, y in d2.items():\n",
    "        \n",
    "\n",
    "        if i == x:\n",
    "\n",
    "            d3[i]=(j+y)\n",
    "            \n",
    "        else :\n",
    "            d3[x]=y\n",
    "            d3[i]=j\n",
    "\n",
    "print(d3)\n"
   ]
  },
  {
   "cell_type": "code",
   "execution_count": 9,
   "id": "59f24940",
   "metadata": {},
   "outputs": [
    {
     "name": "stdout",
     "output_type": "stream",
     "text": [
      "choose a number : 5\n",
      "{1: 1, 2: 4, 3: 9, 4: 16, 5: 25}\n"
     ]
    }
   ],
   "source": [
    "d1 = {}\n",
    "a = int(input(\"choose a number : \"))\n",
    "\n",
    "for i in range(1, a+1):\n",
    "    d1[i]=i*i\n",
    "    \n",
    "print(d1)"
   ]
  },
  {
   "cell_type": "code",
   "execution_count": 18,
   "id": "99e25286",
   "metadata": {},
   "outputs": [
    {
     "data": {
      "text/plain": [
       "[('item3', '24.5'), ('item2', '15.10'), ('item1', '12.20')]"
      ]
     },
     "execution_count": 18,
     "metadata": {},
     "output_type": "execute_result"
    }
   ],
   "source": [
    "def getKey(a):\n",
    "    return a[1]\n",
    "\n",
    "t=[('item1', '12.20'), ('item2', '15.10'), ('item3', '24.5')]\n",
    "\n",
    "sorted(t, key=getKey, reverse=True)"
   ]
  },
  {
   "cell_type": "code",
   "execution_count": null,
   "id": "783cf4c6",
   "metadata": {},
   "outputs": [],
   "source": []
  }
 ],
 "metadata": {
  "kernelspec": {
   "display_name": "Python 3 (ipykernel)",
   "language": "python",
   "name": "python3"
  },
  "language_info": {
   "codemirror_mode": {
    "name": "ipython",
    "version": 3
   },
   "file_extension": ".py",
   "mimetype": "text/x-python",
   "name": "python",
   "nbconvert_exporter": "python",
   "pygments_lexer": "ipython3",
   "version": "3.9.7"
  }
 },
 "nbformat": 4,
 "nbformat_minor": 5
}
